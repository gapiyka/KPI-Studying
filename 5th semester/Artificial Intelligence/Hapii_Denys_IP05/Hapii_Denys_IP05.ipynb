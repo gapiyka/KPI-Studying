{
 "cells": [
  {
   "cell_type": "markdown",
   "id": "9273ce7a",
   "metadata": {},
   "source": [
    "# LAB 1\n",
    "**Powered by:** Hapii Denys IP-05\n",
    "**Topic:** Introduction to the JupyterNotebook environment"
   ]
  },
  {
   "cell_type": "markdown",
   "id": "53a1ac4e",
   "metadata": {},
   "source": [
    "### IMPORTS\n",
    "Used libs:\n",
    "- [*Networkx*](https://github.com/networkx/networkx)\n",
    "- [*PyPlot*](https://matplotlib.org/3.5.1/api/_as_gen/matplotlib.pyplot.html)\n",
    "- Default *Random*\n",
    "- Default *Math*"
   ]
  },
  {
   "cell_type": "code",
   "execution_count": 29,
   "id": "93604f8e",
   "metadata": {},
   "outputs": [],
   "source": [
    "import random\n",
    "import math \n",
    "import matplotlib.pyplot as pyplot\n",
    "import networkx as nx"
   ]
  },
  {
   "cell_type": "markdown",
   "id": "942beac9",
   "metadata": {},
   "source": [
    "### DEFINES\n",
    "Recomendations:\n",
    "- `nodesCount` should be greater than **1**.\n",
    "- Square root of `nodesCount` should be an integer.\n",
    "- `deleteCount` should be less than *Possible Number*\n",
    "- `*Possible Number*`calculates by formula: `( ( sqrt(nodesCount) - 1 ) * sqrt(nodesCount) * 2 ) - ( nodesCount - 1 )`\n",
    "    - example: (5-1) * 5 * 2 - (25 - 1) == 16"
   ]
  },
  {
   "cell_type": "code",
   "execution_count": 30,
   "id": "26037a58",
   "metadata": {},
   "outputs": [],
   "source": [
    "nodesCount = 25\n",
    "deleteCount = 10"
   ]
  },
  {
   "cell_type": "markdown",
   "id": "d77128e4",
   "metadata": {},
   "source": [
    "### ALGORITHM\n",
    "Steps:\n",
    "- Init filled graph\n",
    "- Start loop for time when deleteCount greater than 0\n",
    "    - Choose random node\n",
    "    - Choose random neighbor edge for selected node\n",
    "    - Check if this edge exist\n",
    "    - Remove this edge\n",
    "    - Check there is graph still right connected ( if no re-add deleted edge)\n",
    "    - Repeat untill loop ends"
   ]
  },
  {
   "cell_type": "code",
   "execution_count": 31,
   "id": "7edbfc19",
   "metadata": {},
   "outputs": [],
   "source": [
    "size = int(math.sqrt(nodesCount))\n",
    "counter = 0\n",
    "graph = nx.grid_2d_graph(size, size)\n",
    "nodesList = list(graph.nodes())\n",
    "\n",
    "while deleteCount > 0:\n",
    "    selectedNode = random.choice(nodesList)\n",
    "    \n",
    "    neighborX = random.randint(-1, 1)\n",
    "    neighborY = random.randint(-1, 1)\n",
    "    selectedX, selectedY = selectedNode[0] + neighborX, selectedNode[1] + neighborY\n",
    "    \n",
    "    if(graph.has_edge(selectedNode, (selectedX, selectedY))): \n",
    "        graph.remove_edge(selectedNode, (selectedX, selectedY))\n",
    "        if not nx.is_connected(graph):\n",
    "            graph.add_edge(selectedNode, (selectedX, selectedY))\n",
    "        else: deleteCount -= 1"
   ]
  },
  {
   "cell_type": "markdown",
   "id": "b7675f57",
   "metadata": {},
   "source": [
    "### OUTPUT\n",
    "Draw our graph using matplotlib.pyplot"
   ]
  },
  {
   "cell_type": "code",
   "execution_count": 32,
   "id": "221a01cc",
   "metadata": {},
   "outputs": [
    {
     "data": {
      "image/png": "[encoded data removed]",
      "text/plain": [
       "<Figure size 500x500 with 1 Axes>"
      ]
     },
     "metadata": {},
     "output_type": "display_data"
    }
   ],
   "source": [
    "pyplot.figure(figsize=(size, size))\n",
    "pos = {(x,y):(y,-x) for x,y in graph.nodes()}\n",
    "nx.draw(graph, pos)"
   ]
  }
 ],
 "metadata": {
  "kernelspec": {
   "display_name": "Python 3 (ipykernel)",
   "language": "python",
   "name": "python3"
  },
  "language_info": {
   "codemirror_mode": {
    "name": "ipython",
    "version": 3
   },
   "file_extension": ".py",
   "mimetype": "text/x-python",
   "name": "python",
   "nbconvert_exporter": "python",
   "pygments_lexer": "ipython3",
   "version": "3.10.8"
  }
 },
 "nbformat": 4,
 "nbformat_minor": 5
}
