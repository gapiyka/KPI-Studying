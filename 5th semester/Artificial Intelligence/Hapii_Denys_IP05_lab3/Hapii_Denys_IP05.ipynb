{
 "cells": [
  {
   "cell_type": "markdown",
   "id": "9273ce7a",
   "metadata": {},
   "source": [
    "# LAB 3\n",
    "**Powered by:** Hapii Denys IP-05\n",
    "\n",
    "**Topic:** Knowledge-based agents"
   ]
  },
  {
   "cell_type": "markdown",
   "id": "53a1ac4e",
   "metadata": {},
   "source": [
    "### Include libraries\n",
    "\n",
    "Used libs:\n",
    "- [*XPlot.Plotly*](https://github.com/networkx/networkx)\n",
    "- Other default | embedded libs:\n",
    "    - System;\n",
    "    - System.Math;\n",
    "    - System.Collections.Generic;"
   ]
  },
  {
   "cell_type": "code",
   "execution_count": 181,
   "id": "b4a73bbe",
   "metadata": {},
   "outputs": [],
   "source": [
    "using XPlot.Plotly; "
   ]
  },
  {
   "cell_type": "markdown",
   "id": "6d34eb6b",
   "metadata": {},
   "source": [
    "### Main parameters declaration\n",
    "\n",
    "Recomendations:\n",
    "\n",
    "- `nodesCount` should be greater than **1**.\n",
    "- Square root of `nodesCount` should be an integer.\n",
    "- `deleteCount` should be less than *Possible Number*\n",
    "- *`Possible Number`* calculates by formula: `((sqrt(nodesCount)-1)*sqrt(nodesCount)*2)-(nodesCount-1)`\n",
    "    - example: (5-1) * 5 * 2 - (25 - 1) == 16\"\n",
    "- `agentStart` || `agentEnd` coordinates should be in range: `0 <= *coord* < size`"
   ]
  },
  {
   "cell_type": "code",
   "execution_count": 182,
   "id": "ac33f07b",
   "metadata": {},
   "outputs": [],
   "source": [
    "var nodesCount = 25;\n",
    "var deleteCount = 10;\n",
    "\n",
    "var agentStartX = 0;\n",
    "var agentStartY = 0;\n",
    "\n",
    "var agentEndX = 4;\n",
    "var agentEndY = 4;"
   ]
  },
  {
   "cell_type": "markdown",
   "id": "c42bc60a",
   "metadata": {},
   "source": [
    "### Extra functions"
   ]
  },
  {
   "cell_type": "code",
   "execution_count": 183,
   "id": "27cb2d7e",
   "metadata": {
    "scrolled": true,
    "vscode": {
     "languageId": "csharp"
    }
   },
   "outputs": [],
   "source": [
    "static int iToX(int id, int size) { return id % size; }\n",
    "static int iToY(int id, int size) { return (int)Math.Floor((float)id / size); }\n",
    "static int XYToI(int x, int y, int size) { return (x % size) + (y * size); }"
   ]
  },
  {
   "cell_type": "markdown",
   "id": "a84c9a62",
   "metadata": {},
   "source": [
    "### Graph Class"
   ]
  },
  {
   "cell_type": "code",
   "execution_count": 184,
   "id": "98d8aa37",
   "metadata": {},
   "outputs": [],
   "source": [
    "public class RoadMap \n",
    "{\n",
    "    public int nodesCount;\n",
    "    public int deleteCount;\n",
    "    public int size;\n",
    "    public List<Graph.Scatter> graph;\n",
    "    public List<int>[] nodesList;\n",
    "    int[] nodesArrX;\n",
    "    int[] nodesArrY;\n",
    "    Random random;\n",
    "    \n",
    "    void InitGraph()\n",
    "    {\n",
    "        int id = 0;\n",
    "        for (int y = 0; y < size; y++)\n",
    "        {\n",
    "            for (int x = 0; x < size; x++)\n",
    "            {\n",
    "                nodesList[id] = new List<int>();\n",
    "                if (x != size - 1) nodesList[id].Add(id + 1);\n",
    "                if (y != size - 1) nodesList[id].Add(id + size);\n",
    "                if (x != 0) nodesList[id].Add(id - 1);\n",
    "                if (y != 0) nodesList[id].Add(id - size);\n",
    "                nodesArrX[id] = x;\n",
    "                nodesArrY[id] = y;\n",
    "                id++;\n",
    "            }\n",
    "        }\n",
    "        \n",
    "        // add markers to graph\n",
    "        var nodes = new Graph.Scatter()\n",
    "        {\n",
    "            x = nodesArrX,\n",
    "            y = nodesArrY,\n",
    "            mode = \"markers\",\n",
    "            marker = new Graph.Marker() {color = \"blue\"},\n",
    "        };\n",
    "        graph.Add(nodes);\n",
    "    }\n",
    "    \n",
    "    void DFS(int source, List<int>[] adjList, bool[] visited)\n",
    "    {\n",
    "        visited[source] = true;\n",
    "        for (int i = 0; i < adjList[source].Count ; i++) {\n",
    "            int neighbor = adjList[source][i];\n",
    "            if (visited[neighbor] == false)\n",
    "                DFS(neighbor, adjList, visited);\n",
    "        }\n",
    "    }\n",
    "\n",
    "    // check if graph still connected (agent could reach any node)\n",
    "    bool IsConnected() \n",
    "    {\n",
    "        List<int>[] adjList = nodesList;\n",
    "        bool[] visited = new bool[nodesCount];\n",
    "        DFS(0, adjList, visited);\n",
    "        int count = 0;\n",
    "        for (int i = 0; i < visited.Length; i++) \n",
    "            if (visited[i])\n",
    "                count++;\n",
    "\n",
    "        return (nodesCount == count) ? true : false;\n",
    "    }\n",
    "    \n",
    "    void RemoveRandomEdges()\n",
    "    {\n",
    "        random = new Random();\n",
    "        while (deleteCount > 0)\n",
    "        {\n",
    "            int num = random.Next(0, nodesList.Length);\n",
    "            int neighborNode = -1;\n",
    "            int neighborX = random.Next(-1, 1);\n",
    "            if (neighborX != 0) neighborNode = num + neighborX;\n",
    "            else\n",
    "            {    \n",
    "                int neighborY = random.Next(-1, 1);\n",
    "                if (neighborY == 1) neighborY = size;\n",
    "                if (neighborY == -1) neighborY = -size;\n",
    "                neighborNode = num - neighborY;\n",
    "            }\n",
    "\n",
    "            if (neighborNode < 0 || neighborNode > nodesCount) continue;\n",
    "        \n",
    "            if (nodesList[num].Contains(neighborNode))\n",
    "            {\n",
    "                nodesList[num].Remove(neighborNode);\n",
    "                nodesList[neighborNode].Remove(num);\n",
    "                if (IsConnected()) deleteCount--;\n",
    "                else \n",
    "                {\n",
    "                    nodesList[num].Add(neighborNode);\n",
    "                    nodesList[neighborNode].Add(num);\n",
    "                }\n",
    "            }\n",
    "    \n",
    "        }\n",
    "    }\n",
    "    \n",
    "    void FillGraph(bool debug)\n",
    "    {\n",
    "        var counterX = 0;\n",
    "        var counterY = 0;\n",
    "        foreach(List<int> node in nodesList)\n",
    "        {\n",
    "            if (counterX == size)\n",
    "            {\n",
    "                counterX = 0;\n",
    "                counterY++;\n",
    "            }\n",
    "            if (debug) Console.Write(\"Node \" + counterX + \"-\" + counterY + \": \");\n",
    "            foreach (int edge in node)\n",
    "            {\n",
    "                int edgeX = iToX(edge, size);\n",
    "                int edgeY = iToY(edge, size);\n",
    "                if (debug) Console.Write(edgeX + \"-\" + edgeY + \", \");\n",
    "                graph.Add(new Graph.Scatter()\n",
    "                {\n",
    "                    x = new int[] {counterX, edgeX},\n",
    "                    y = new int[] {counterY, edgeY},\n",
    "                    mode = \"lines\",\n",
    "                    line = new Graph.Line() {color = \"blue\"},\n",
    "                });\n",
    "            }\n",
    "            if (debug) Console.WriteLine();\n",
    "            counterX++;\n",
    "        }\n",
    "    }\n",
    "    \n",
    "    public RoadMap(int nodesCount, int deleteCount)\n",
    "    {\n",
    "        this.nodesCount = nodesCount;\n",
    "        this.deleteCount = deleteCount;\n",
    "        this.size = (int)Math.Sqrt(nodesCount);\n",
    "        nodesList = new List<int>[nodesCount];\n",
    "        nodesArrX = new int[nodesCount];\n",
    "        nodesArrY = new int[nodesCount];\n",
    "        graph = new List<Graph.Scatter>();\n",
    "        InitGraph();\n",
    "        RemoveRandomEdges();\n",
    "        FillGraph(true); // false to turn off printing nodes connections\n",
    "    }\n",
    "}"
   ]
  },
  {
   "cell_type": "markdown",
   "id": "4372dbbe",
   "metadata": {},
   "source": [
    "### Create  graph function"
   ]
  },
  {
   "cell_type": "code",
   "execution_count": 185,
   "id": "93604f8e",
   "metadata": {
    "scrolled": true,
    "vscode": {
     "languageId": "csharp"
    }
   },
   "outputs": [],
   "source": [
    "PlotlyChart GraphInChart(List<Graph.Scatter> graph) {\n",
    "    PlotlyChart chart = Chart.Plot(graph);\n",
    "    chart.WithLegend(false);\n",
    "    chart.Width = 500;\n",
    "    chart.Height = 500;\n",
    "    return chart;\n",
    "}"
   ]
  },
  {
   "cell_type": "markdown",
   "id": "7b769236",
   "metadata": {},
   "source": [
    "### Create and display graph with declared params"
   ]
  },
  {
   "cell_type": "code",
   "execution_count": 186,
   "id": "e619fd5b",
   "metadata": {
    "scrolled": true,
    "vscode": {
     "languageId": "csharp"
    }
   },
   "outputs": [
    {
     "name": "stdout",
     "output_type": "stream",
     "text": [
      "Node 0-0: 1-0, 0-1, \n",
      "Node 1-0: 2-0, 0-0, \n",
      "Node 2-0: 2-1, 1-0, \n",
      "Node 3-0: 4-0, 3-1, \n",
      "Node 4-0: 4-1, 3-0, \n",
      "Node 0-1: 1-1, 0-2, 0-0, \n",
      "Node 1-1: 1-2, 0-1, \n",
      "Node 2-1: 3-1, 2-2, 2-0, \n",
      "Node 3-1: 3-2, 2-1, 3-0, \n",
      "Node 4-1: 4-2, 4-0, \n",
      "Node 0-2: 1-2, 0-3, 0-1, \n",
      "Node 1-2: 2-2, 1-3, 0-2, 1-1, \n",
      "Node 2-2: 3-2, 1-2, 2-1, \n",
      "Node 3-2: 4-2, 3-3, 2-2, 3-1, \n",
      "Node 4-2: 3-2, 4-1, 4-3, \n",
      "Node 0-3: 0-2, 0-4, \n",
      "Node 1-3: 2-3, 1-2, \n",
      "Node 2-3: 3-3, 2-4, 1-3, \n",
      "Node 3-3: 3-4, 2-3, 3-2, \n",
      "Node 4-3: 4-2, \n",
      "Node 0-4: 0-3, \n",
      "Node 1-4: 2-4, \n",
      "Node 2-4: 3-4, 1-4, 2-3, \n",
      "Node 3-4: 2-4, 3-3, 4-4, \n",
      "Node 4-4: 3-4, \n"
     ]
    },
    {
     "data": {
      "text/html": [
       "<div id=\"f212adcb-6d2a-465b-ae53-5d60873ed7c1\" style=\"width: 500px; height: 500px;\"></div><script type=\"text/javascript\">\r\n",
       "\r\n",
       "var renderPlotly = function() {\r\n",
       "    var xplotRequire = requirejs.config({context:'xplot-2.0.0',paths:{plotly:'https://cdn.plot.ly/plotly-1.49.2.min'}});\r\n",
       "    xplotRequire(['plotly'], function(Plotly) {\r\n",
       "\n",
       "            var data = [{\"type\":\"scatter\",\"x\":[0,1,2,3,4,0,1,2,3,4,0,1,2,3,4,0,1,2,3,4,0,1,2,3,4],\"y\":[0,0,0,0,0,1,1,1,1,1,2,2,2,2,2,3,3,3,3,3,4,4,4,4,4],\"mode\":\"markers\",\"marker\":{\"color\":\"blue\"}},{\"type\":\"scatter\",\"x\":[0,1],\"y\":[0,0],\"mode\":\"lines\",\"line\":{\"color\":\"blue\"}},{\"type\":\"scatter\",\"x\":[0,0],\"y\":[0,1],\"mode\":\"lines\",\"line\":{\"color\":\"blue\"}},{\"type\":\"scatter\",\"x\":[1,2],\"y\":[0,0],\"mode\":\"lines\",\"line\":{\"color\":\"blue\"}},{\"type\":\"scatter\",\"x\":[1,0],\"y\":[0,0],\"mode\":\"lines\",\"line\":{\"color\":\"blue\"}},{\"type\":\"scatter\",\"x\":[2,2],\"y\":[0,1],\"mode\":\"lines\",\"line\":{\"color\":\"blue\"}},{\"type\":\"scatter\",\"x\":[2,1],\"y\":[0,0],\"mode\":\"lines\",\"line\":{\"color\":\"blue\"}},{\"type\":\"scatter\",\"x\":[3,4],\"y\":[0,0],\"mode\":\"lines\",\"line\":{\"color\":\"blue\"}},{\"type\":\"scatter\",\"x\":[3,3],\"y\":[0,1],\"mode\":\"lines\",\"line\":{\"color\":\"blue\"}},{\"type\":\"scatter\",\"x\":[4,4],\"y\":[0,1],\"mode\":\"lines\",\"line\":{\"color\":\"blue\"}},{\"type\":\"scatter\",\"x\":[4,3],\"y\":[0,0],\"mode\":\"lines\",\"line\":{\"color\":\"blue\"}},{\"type\":\"scatter\",\"x\":[0,1],\"y\":[1,1],\"mode\":\"lines\",\"line\":{\"color\":\"blue\"}},{\"type\":\"scatter\",\"x\":[0,0],\"y\":[1,2],\"mode\":\"lines\",\"line\":{\"color\":\"blue\"}},{\"type\":\"scatter\",\"x\":[0,0],\"y\":[1,0],\"mode\":\"lines\",\"line\":{\"color\":\"blue\"}},{\"type\":\"scatter\",\"x\":[1,1],\"y\":[1,2],\"mode\":\"lines\",\"line\":{\"color\":\"blue\"}},{\"type\":\"scatter\",\"x\":[1,0],\"y\":[1,1],\"mode\":\"lines\",\"line\":{\"color\":\"blue\"}},{\"type\":\"scatter\",\"x\":[2,3],\"y\":[1,1],\"mode\":\"lines\",\"line\":{\"color\":\"blue\"}},{\"type\":\"scatter\",\"x\":[2,2],\"y\":[1,2],\"mode\":\"lines\",\"line\":{\"color\":\"blue\"}},{\"type\":\"scatter\",\"x\":[2,2],\"y\":[1,0],\"mode\":\"lines\",\"line\":{\"color\":\"blue\"}},{\"type\":\"scatter\",\"x\":[3,3],\"y\":[1,2],\"mode\":\"lines\",\"line\":{\"color\":\"blue\"}},{\"type\":\"scatter\",\"x\":[3,2],\"y\":[1,1],\"mode\":\"lines\",\"line\":{\"color\":\"blue\"}},{\"type\":\"scatter\",\"x\":[3,3],\"y\":[1,0],\"mode\":\"lines\",\"line\":{\"color\":\"blue\"}},{\"type\":\"scatter\",\"x\":[4,4],\"y\":[1,2],\"mode\":\"lines\",\"line\":{\"color\":\"blue\"}},{\"type\":\"scatter\",\"x\":[4,4],\"y\":[1,0],\"mode\":\"lines\",\"line\":{\"color\":\"blue\"}},{\"type\":\"scatter\",\"x\":[0,1],\"y\":[2,2],\"mode\":\"lines\",\"line\":{\"color\":\"blue\"}},{\"type\":\"scatter\",\"x\":[0,0],\"y\":[2,3],\"mode\":\"lines\",\"line\":{\"color\":\"blue\"}},{\"type\":\"scatter\",\"x\":[0,0],\"y\":[2,1],\"mode\":\"lines\",\"line\":{\"color\":\"blue\"}},{\"type\":\"scatter\",\"x\":[1,2],\"y\":[2,2],\"mode\":\"lines\",\"line\":{\"color\":\"blue\"}},{\"type\":\"scatter\",\"x\":[1,1],\"y\":[2,3],\"mode\":\"lines\",\"line\":{\"color\":\"blue\"}},{\"type\":\"scatter\",\"x\":[1,0],\"y\":[2,2],\"mode\":\"lines\",\"line\":{\"color\":\"blue\"}},{\"type\":\"scatter\",\"x\":[1,1],\"y\":[2,1],\"mode\":\"lines\",\"line\":{\"color\":\"blue\"}},{\"type\":\"scatter\",\"x\":[2,3],\"y\":[2,2],\"mode\":\"lines\",\"line\":{\"color\":\"blue\"}},{\"type\":\"scatter\",\"x\":[2,1],\"y\":[2,2],\"mode\":\"lines\",\"line\":{\"color\":\"blue\"}},{\"type\":\"scatter\",\"x\":[2,2],\"y\":[2,1],\"mode\":\"lines\",\"line\":{\"color\":\"blue\"}},{\"type\":\"scatter\",\"x\":[3,4],\"y\":[2,2],\"mode\":\"lines\",\"line\":{\"color\":\"blue\"}},{\"type\":\"scatter\",\"x\":[3,3],\"y\":[2,3],\"mode\":\"lines\",\"line\":{\"color\":\"blue\"}},{\"type\":\"scatter\",\"x\":[3,2],\"y\":[2,2],\"mode\":\"lines\",\"line\":{\"color\":\"blue\"}},{\"type\":\"scatter\",\"x\":[3,3],\"y\":[2,1],\"mode\":\"lines\",\"line\":{\"color\":\"blue\"}},{\"type\":\"scatter\",\"x\":[4,3],\"y\":[2,2],\"mode\":\"lines\",\"line\":{\"color\":\"blue\"}},{\"type\":\"scatter\",\"x\":[4,4],\"y\":[2,1],\"mode\":\"lines\",\"line\":{\"color\":\"blue\"}},{\"type\":\"scatter\",\"x\":[4,4],\"y\":[2,3],\"mode\":\"lines\",\"line\":{\"color\":\"blue\"}},{\"type\":\"scatter\",\"x\":[0,0],\"y\":[3,2],\"mode\":\"lines\",\"line\":{\"color\":\"blue\"}},{\"type\":\"scatter\",\"x\":[0,0],\"y\":[3,4],\"mode\":\"lines\",\"line\":{\"color\":\"blue\"}},{\"type\":\"scatter\",\"x\":[1,2],\"y\":[3,3],\"mode\":\"lines\",\"line\":{\"color\":\"blue\"}},{\"type\":\"scatter\",\"x\":[1,1],\"y\":[3,2],\"mode\":\"lines\",\"line\":{\"color\":\"blue\"}},{\"type\":\"scatter\",\"x\":[2,3],\"y\":[3,3],\"mode\":\"lines\",\"line\":{\"color\":\"blue\"}},{\"type\":\"scatter\",\"x\":[2,2],\"y\":[3,4],\"mode\":\"lines\",\"line\":{\"color\":\"blue\"}},{\"type\":\"scatter\",\"x\":[2,1],\"y\":[3,3],\"mode\":\"lines\",\"line\":{\"color\":\"blue\"}},{\"type\":\"scatter\",\"x\":[3,3],\"y\":[3,4],\"mode\":\"lines\",\"line\":{\"color\":\"blue\"}},{\"type\":\"scatter\",\"x\":[3,2],\"y\":[3,3],\"mode\":\"lines\",\"line\":{\"color\":\"blue\"}},{\"type\":\"scatter\",\"x\":[3,3],\"y\":[3,2],\"mode\":\"lines\",\"line\":{\"color\":\"blue\"}},{\"type\":\"scatter\",\"x\":[4,4],\"y\":[3,2],\"mode\":\"lines\",\"line\":{\"color\":\"blue\"}},{\"type\":\"scatter\",\"x\":[0,0],\"y\":[4,3],\"mode\":\"lines\",\"line\":{\"color\":\"blue\"}},{\"type\":\"scatter\",\"x\":[1,2],\"y\":[4,4],\"mode\":\"lines\",\"line\":{\"color\":\"blue\"}},{\"type\":\"scatter\",\"x\":[2,3],\"y\":[4,4],\"mode\":\"lines\",\"line\":{\"color\":\"blue\"}},{\"type\":\"scatter\",\"x\":[2,1],\"y\":[4,4],\"mode\":\"lines\",\"line\":{\"color\":\"blue\"}},{\"type\":\"scatter\",\"x\":[2,2],\"y\":[4,3],\"mode\":\"lines\",\"line\":{\"color\":\"blue\"}},{\"type\":\"scatter\",\"x\":[3,2],\"y\":[4,4],\"mode\":\"lines\",\"line\":{\"color\":\"blue\"}},{\"type\":\"scatter\",\"x\":[3,3],\"y\":[4,3],\"mode\":\"lines\",\"line\":{\"color\":\"blue\"}},{\"type\":\"scatter\",\"x\":[3,4],\"y\":[4,4],\"mode\":\"lines\",\"line\":{\"color\":\"blue\"}},{\"type\":\"scatter\",\"x\":[4,3],\"y\":[4,4],\"mode\":\"lines\",\"line\":{\"color\":\"blue\"}}];\n",
       "            var layout = {\"showlegend\":false};\n",
       "            Plotly.newPlot('f212adcb-6d2a-465b-ae53-5d60873ed7c1', data, layout);\n",
       "        });\r\n",
       "};\r\n",
       "if ((typeof(requirejs) !==  typeof(Function)) || (typeof(requirejs.config) !== typeof(Function))) { \r\n",
       "    var script = document.createElement(\"script\"); \r\n",
       "    script.setAttribute(\"src\", \"https://cdnjs.cloudflare.com/ajax/libs/require.js/2.3.6/require.min.js\"); \r\n",
       "    script.onload = function(){\r\n",
       "        renderPlotly();\r\n",
       "    };\r\n",
       "    document.getElementsByTagName(\"head\")[0].appendChild(script); \r\n",
       "}\r\n",
       "else {\r\n",
       "    renderPlotly();\r\n",
       "}\r\n",
       "</script>"
      ]
     },
     "metadata": {},
     "output_type": "display_data"
    }
   ],
   "source": [
    "var roadMap = new RoadMap(nodesCount, deleteCount);\n",
    "var chart = GraphInChart(roadMap.graph);\n",
    "display(chart);"
   ]
  },
  {
   "cell_type": "markdown",
   "id": "d7de6a6f",
   "metadata": {},
   "source": [
    "### Agent Abstraction"
   ]
  },
  {
   "cell_type": "code",
   "execution_count": 187,
   "id": "822f09e9",
   "metadata": {
    "scrolled": false,
    "vscode": {
     "languageId": "csharp"
    }
   },
   "outputs": [],
   "source": [
    "public class Agent \n",
    "{\n",
    "    int currentX;\n",
    "    int currentY;\n",
    "    int currentI;\n",
    "    int endX;\n",
    "    int endY;\n",
    "    int endI;\n",
    "    int prevX;\n",
    "    int prevY;\n",
    "    Stack<int> roadsMemory;\n",
    "    List<int> visited;\n",
    "    RoadMap roadMap;\n",
    "    public List<Graph.Scatter> graph;\n",
    "    bool debugMode;\n",
    "    int nextNode;\n",
    "    \n",
    "    void DebugLocation()\n",
    "    {\n",
    "        if (debugMode) Console.Write(\"> (\" + currentX + \",\" + currentY + \") \");\n",
    "    }\n",
    "    \n",
    "    public Agent(RoadMap map, int startX, int startY, int endX, int endY, bool debugMode)\n",
    "    {\n",
    "        roadMap = map;\n",
    "        currentX = startX;\n",
    "        currentY = startY;\n",
    "        currentI = XYToI(currentX, currentY, roadMap.size); // transform 2d into 1d\n",
    "        this.endX = endX;\n",
    "        this.endY = endY;\n",
    "        endI = XYToI(endX, endY, roadMap.size);// transform 2d into 1d\n",
    "        prevX = currentX;\n",
    "        prevY = currentY;\n",
    "        roadsMemory = new Stack<int>(); // stack with remembering `correct` path of agent\n",
    "        visited = new List<int>(); // list of all visited nodes\n",
    "        graph = map.graph; // make copy for new graph\n",
    "        this.debugMode = debugMode;\n",
    "        // put agent at start point:\n",
    "        DebugLocation();\n",
    "        roadsMemory.Push(currentI);\n",
    "        visited.Add(currentI);\n",
    "    }\n",
    "    \n",
    "    void Rotate()\n",
    "    {\n",
    "        roadsMemory.Pop();\n",
    "    }\n",
    "    \n",
    "    void ChooseDirection()\n",
    "    {\n",
    "        roadsMemory.Push(nextNode); // add node to path\n",
    "        visited.Add(nextNode); // mark as visited\n",
    "    }\n",
    "    \n",
    "    void Move()\n",
    "    {\n",
    "        prevX = currentX;\n",
    "        prevY = currentY;\n",
    "        currentI = roadsMemory.Peek();\n",
    "        currentX = iToX(currentI, roadMap.size);\n",
    "        currentY = iToY(currentI, roadMap.size);\n",
    "        graph.Add(new Graph.Scatter()\n",
    "        {\n",
    "            x = new int[] {prevX, currentX},\n",
    "            y = new int[] {prevY, currentY},\n",
    "            mode = \"lines\",\n",
    "            line = new Graph.Line() {color = \"yellow\"},\n",
    "        });  \n",
    "    }\n",
    "    \n",
    "    bool CheckImpasseSign(int node)\n",
    "    {\n",
    "        return (roadMap.nodesList[node].Count == 1) ? true : false;\n",
    "    }\n",
    "    \n",
    "    void Tell()\n",
    "    {\n",
    "        nextNode = -1;\n",
    "        int heuristicCurr = Math.Abs(currentX - endX) + \n",
    "            Math.Abs(currentY - endY);\n",
    "        foreach(int nextI in roadMap.nodesList[currentI]) // check existing roads from current node\n",
    "        {\n",
    "            if(!visited.Contains(nextI))\n",
    "            {\n",
    "                if (nextI == endI) \n",
    "                {\n",
    "                    nextNode = nextI;\n",
    "                    break;\n",
    "                }\n",
    "                if (CheckImpasseSign(nextI)) continue;\n",
    "                if (nextNode == -1) nextNode = nextI;\n",
    "                int heuristicNext = Math.Abs(iToX(nextI, roadMap.size) - endX) + \n",
    "                    Math.Abs(iToY(nextI, roadMap.size) - endY);\n",
    "                if (heuristicNext < heuristicCurr)\n",
    "                    nextNode = nextI;\n",
    "            }\n",
    "        }\n",
    "    }\n",
    "    \n",
    "    Action Ask()\n",
    "    {\n",
    "            if (nextNode == -1)\n",
    "                return Rotate;\n",
    "            else\n",
    "                return ChooseDirection;\n",
    "    }\n",
    "    \n",
    "    public void MoveToGoal()\n",
    "    {\n",
    "        while (currentI != endI) \n",
    "        {\n",
    "            Tell();\n",
    "            Action Act = Ask();\n",
    "            Act();\n",
    "            Move();\n",
    "            DebugLocation();\n",
    "        }\n",
    "    }\n",
    "    \n",
    "    public void FillGraphWithPath()\n",
    "    {\n",
    "        prevX = endX;\n",
    "        prevY = endY;\n",
    "        foreach(int node in roadsMemory)\n",
    "        {\n",
    "            currentX = iToX(node, roadMap.size);\n",
    "            currentY = iToY(node, roadMap.size);\n",
    "            graph.Add(new Graph.Scatter()\n",
    "            {\n",
    "                x = new int[] {prevX, currentX},\n",
    "                y = new int[] {prevY, currentY},\n",
    "                mode = \"lines\",\n",
    "                line = new Graph.Line() {color = \"red\"},\n",
    "            }); \n",
    "            prevX = currentX;\n",
    "            prevY = currentY;\n",
    "        }\n",
    "    }\n",
    "}"
   ]
  },
  {
   "cell_type": "markdown",
   "id": "6cd59470",
   "metadata": {},
   "source": [
    "### Create and display graph with path"
   ]
  },
  {
   "cell_type": "code",
   "execution_count": 188,
   "id": "17f5928f",
   "metadata": {
    "scrolled": true,
    "vscode": {
     "languageId": "csharp"
    }
   },
   "outputs": [
    {
     "name": "stdout",
     "output_type": "stream",
     "text": [
      "> (0,0) > (0,1) > (0,2) > (0,3) > (0,2) > (1,2) > (1,3) > (2,3) > (2,4) > (3,4) > (4,4) "
     ]
    },
    {
     "data": {
      "text/html": [
       "<div id=\"fe2b955f-2bb7-4fe0-aa0c-4afe4d3a0d36\" style=\"width: 500px; height: 500px;\"></div><script type=\"text/javascript\">\r\n",
       "\r\n",
       "var renderPlotly = function() {\r\n",
       "    var xplotRequire = requirejs.config({context:'xplot-2.0.0',paths:{plotly:'https://cdn.plot.ly/plotly-1.49.2.min'}});\r\n",
       "    xplotRequire(['plotly'], function(Plotly) {\r\n",
       "\n",
       "            var data = [{\"type\":\"scatter\",\"x\":[0,1,2,3,4,0,1,2,3,4,0,1,2,3,4,0,1,2,3,4,0,1,2,3,4],\"y\":[0,0,0,0,0,1,1,1,1,1,2,2,2,2,2,3,3,3,3,3,4,4,4,4,4],\"mode\":\"markers\",\"marker\":{\"color\":\"blue\"}},{\"type\":\"scatter\",\"x\":[0,1],\"y\":[0,0],\"mode\":\"lines\",\"line\":{\"color\":\"blue\"}},{\"type\":\"scatter\",\"x\":[0,0],\"y\":[0,1],\"mode\":\"lines\",\"line\":{\"color\":\"blue\"}},{\"type\":\"scatter\",\"x\":[1,2],\"y\":[0,0],\"mode\":\"lines\",\"line\":{\"color\":\"blue\"}},{\"type\":\"scatter\",\"x\":[1,0],\"y\":[0,0],\"mode\":\"lines\",\"line\":{\"color\":\"blue\"}},{\"type\":\"scatter\",\"x\":[2,2],\"y\":[0,1],\"mode\":\"lines\",\"line\":{\"color\":\"blue\"}},{\"type\":\"scatter\",\"x\":[2,1],\"y\":[0,0],\"mode\":\"lines\",\"line\":{\"color\":\"blue\"}},{\"type\":\"scatter\",\"x\":[3,4],\"y\":[0,0],\"mode\":\"lines\",\"line\":{\"color\":\"blue\"}},{\"type\":\"scatter\",\"x\":[3,3],\"y\":[0,1],\"mode\":\"lines\",\"line\":{\"color\":\"blue\"}},{\"type\":\"scatter\",\"x\":[4,4],\"y\":[0,1],\"mode\":\"lines\",\"line\":{\"color\":\"blue\"}},{\"type\":\"scatter\",\"x\":[4,3],\"y\":[0,0],\"mode\":\"lines\",\"line\":{\"color\":\"blue\"}},{\"type\":\"scatter\",\"x\":[0,1],\"y\":[1,1],\"mode\":\"lines\",\"line\":{\"color\":\"blue\"}},{\"type\":\"scatter\",\"x\":[0,0],\"y\":[1,2],\"mode\":\"lines\",\"line\":{\"color\":\"blue\"}},{\"type\":\"scatter\",\"x\":[0,0],\"y\":[1,0],\"mode\":\"lines\",\"line\":{\"color\":\"blue\"}},{\"type\":\"scatter\",\"x\":[1,1],\"y\":[1,2],\"mode\":\"lines\",\"line\":{\"color\":\"blue\"}},{\"type\":\"scatter\",\"x\":[1,0],\"y\":[1,1],\"mode\":\"lines\",\"line\":{\"color\":\"blue\"}},{\"type\":\"scatter\",\"x\":[2,3],\"y\":[1,1],\"mode\":\"lines\",\"line\":{\"color\":\"blue\"}},{\"type\":\"scatter\",\"x\":[2,2],\"y\":[1,2],\"mode\":\"lines\",\"line\":{\"color\":\"blue\"}},{\"type\":\"scatter\",\"x\":[2,2],\"y\":[1,0],\"mode\":\"lines\",\"line\":{\"color\":\"blue\"}},{\"type\":\"scatter\",\"x\":[3,3],\"y\":[1,2],\"mode\":\"lines\",\"line\":{\"color\":\"blue\"}},{\"type\":\"scatter\",\"x\":[3,2],\"y\":[1,1],\"mode\":\"lines\",\"line\":{\"color\":\"blue\"}},{\"type\":\"scatter\",\"x\":[3,3],\"y\":[1,0],\"mode\":\"lines\",\"line\":{\"color\":\"blue\"}},{\"type\":\"scatter\",\"x\":[4,4],\"y\":[1,2],\"mode\":\"lines\",\"line\":{\"color\":\"blue\"}},{\"type\":\"scatter\",\"x\":[4,4],\"y\":[1,0],\"mode\":\"lines\",\"line\":{\"color\":\"blue\"}},{\"type\":\"scatter\",\"x\":[0,1],\"y\":[2,2],\"mode\":\"lines\",\"line\":{\"color\":\"blue\"}},{\"type\":\"scatter\",\"x\":[0,0],\"y\":[2,3],\"mode\":\"lines\",\"line\":{\"color\":\"blue\"}},{\"type\":\"scatter\",\"x\":[0,0],\"y\":[2,1],\"mode\":\"lines\",\"line\":{\"color\":\"blue\"}},{\"type\":\"scatter\",\"x\":[1,2],\"y\":[2,2],\"mode\":\"lines\",\"line\":{\"color\":\"blue\"}},{\"type\":\"scatter\",\"x\":[1,1],\"y\":[2,3],\"mode\":\"lines\",\"line\":{\"color\":\"blue\"}},{\"type\":\"scatter\",\"x\":[1,0],\"y\":[2,2],\"mode\":\"lines\",\"line\":{\"color\":\"blue\"}},{\"type\":\"scatter\",\"x\":[1,1],\"y\":[2,1],\"mode\":\"lines\",\"line\":{\"color\":\"blue\"}},{\"type\":\"scatter\",\"x\":[2,3],\"y\":[2,2],\"mode\":\"lines\",\"line\":{\"color\":\"blue\"}},{\"type\":\"scatter\",\"x\":[2,1],\"y\":[2,2],\"mode\":\"lines\",\"line\":{\"color\":\"blue\"}},{\"type\":\"scatter\",\"x\":[2,2],\"y\":[2,1],\"mode\":\"lines\",\"line\":{\"color\":\"blue\"}},{\"type\":\"scatter\",\"x\":[3,4],\"y\":[2,2],\"mode\":\"lines\",\"line\":{\"color\":\"blue\"}},{\"type\":\"scatter\",\"x\":[3,3],\"y\":[2,3],\"mode\":\"lines\",\"line\":{\"color\":\"blue\"}},{\"type\":\"scatter\",\"x\":[3,2],\"y\":[2,2],\"mode\":\"lines\",\"line\":{\"color\":\"blue\"}},{\"type\":\"scatter\",\"x\":[3,3],\"y\":[2,1],\"mode\":\"lines\",\"line\":{\"color\":\"blue\"}},{\"type\":\"scatter\",\"x\":[4,3],\"y\":[2,2],\"mode\":\"lines\",\"line\":{\"color\":\"blue\"}},{\"type\":\"scatter\",\"x\":[4,4],\"y\":[2,1],\"mode\":\"lines\",\"line\":{\"color\":\"blue\"}},{\"type\":\"scatter\",\"x\":[4,4],\"y\":[2,3],\"mode\":\"lines\",\"line\":{\"color\":\"blue\"}},{\"type\":\"scatter\",\"x\":[0,0],\"y\":[3,2],\"mode\":\"lines\",\"line\":{\"color\":\"blue\"}},{\"type\":\"scatter\",\"x\":[0,0],\"y\":[3,4],\"mode\":\"lines\",\"line\":{\"color\":\"blue\"}},{\"type\":\"scatter\",\"x\":[1,2],\"y\":[3,3],\"mode\":\"lines\",\"line\":{\"color\":\"blue\"}},{\"type\":\"scatter\",\"x\":[1,1],\"y\":[3,2],\"mode\":\"lines\",\"line\":{\"color\":\"blue\"}},{\"type\":\"scatter\",\"x\":[2,3],\"y\":[3,3],\"mode\":\"lines\",\"line\":{\"color\":\"blue\"}},{\"type\":\"scatter\",\"x\":[2,2],\"y\":[3,4],\"mode\":\"lines\",\"line\":{\"color\":\"blue\"}},{\"type\":\"scatter\",\"x\":[2,1],\"y\":[3,3],\"mode\":\"lines\",\"line\":{\"color\":\"blue\"}},{\"type\":\"scatter\",\"x\":[3,3],\"y\":[3,4],\"mode\":\"lines\",\"line\":{\"color\":\"blue\"}},{\"type\":\"scatter\",\"x\":[3,2],\"y\":[3,3],\"mode\":\"lines\",\"line\":{\"color\":\"blue\"}},{\"type\":\"scatter\",\"x\":[3,3],\"y\":[3,2],\"mode\":\"lines\",\"line\":{\"color\":\"blue\"}},{\"type\":\"scatter\",\"x\":[4,4],\"y\":[3,2],\"mode\":\"lines\",\"line\":{\"color\":\"blue\"}},{\"type\":\"scatter\",\"x\":[0,0],\"y\":[4,3],\"mode\":\"lines\",\"line\":{\"color\":\"blue\"}},{\"type\":\"scatter\",\"x\":[1,2],\"y\":[4,4],\"mode\":\"lines\",\"line\":{\"color\":\"blue\"}},{\"type\":\"scatter\",\"x\":[2,3],\"y\":[4,4],\"mode\":\"lines\",\"line\":{\"color\":\"blue\"}},{\"type\":\"scatter\",\"x\":[2,1],\"y\":[4,4],\"mode\":\"lines\",\"line\":{\"color\":\"blue\"}},{\"type\":\"scatter\",\"x\":[2,2],\"y\":[4,3],\"mode\":\"lines\",\"line\":{\"color\":\"blue\"}},{\"type\":\"scatter\",\"x\":[3,2],\"y\":[4,4],\"mode\":\"lines\",\"line\":{\"color\":\"blue\"}},{\"type\":\"scatter\",\"x\":[3,3],\"y\":[4,3],\"mode\":\"lines\",\"line\":{\"color\":\"blue\"}},{\"type\":\"scatter\",\"x\":[3,4],\"y\":[4,4],\"mode\":\"lines\",\"line\":{\"color\":\"blue\"}},{\"type\":\"scatter\",\"x\":[4,3],\"y\":[4,4],\"mode\":\"lines\",\"line\":{\"color\":\"blue\"}},{\"type\":\"scatter\",\"x\":[0,0],\"y\":[0,1],\"mode\":\"lines\",\"line\":{\"color\":\"yellow\"}},{\"type\":\"scatter\",\"x\":[0,0],\"y\":[1,2],\"mode\":\"lines\",\"line\":{\"color\":\"yellow\"}},{\"type\":\"scatter\",\"x\":[0,0],\"y\":[2,3],\"mode\":\"lines\",\"line\":{\"color\":\"yellow\"}},{\"type\":\"scatter\",\"x\":[0,0],\"y\":[3,2],\"mode\":\"lines\",\"line\":{\"color\":\"yellow\"}},{\"type\":\"scatter\",\"x\":[0,1],\"y\":[2,2],\"mode\":\"lines\",\"line\":{\"color\":\"yellow\"}},{\"type\":\"scatter\",\"x\":[1,1],\"y\":[2,3],\"mode\":\"lines\",\"line\":{\"color\":\"yellow\"}},{\"type\":\"scatter\",\"x\":[1,2],\"y\":[3,3],\"mode\":\"lines\",\"line\":{\"color\":\"yellow\"}},{\"type\":\"scatter\",\"x\":[2,2],\"y\":[3,4],\"mode\":\"lines\",\"line\":{\"color\":\"yellow\"}},{\"type\":\"scatter\",\"x\":[2,3],\"y\":[4,4],\"mode\":\"lines\",\"line\":{\"color\":\"yellow\"}},{\"type\":\"scatter\",\"x\":[3,4],\"y\":[4,4],\"mode\":\"lines\",\"line\":{\"color\":\"yellow\"}},{\"type\":\"scatter\",\"x\":[4,4],\"y\":[4,4],\"mode\":\"lines\",\"line\":{\"color\":\"red\"}},{\"type\":\"scatter\",\"x\":[4,3],\"y\":[4,4],\"mode\":\"lines\",\"line\":{\"color\":\"red\"}},{\"type\":\"scatter\",\"x\":[3,2],\"y\":[4,4],\"mode\":\"lines\",\"line\":{\"color\":\"red\"}},{\"type\":\"scatter\",\"x\":[2,2],\"y\":[4,3],\"mode\":\"lines\",\"line\":{\"color\":\"red\"}},{\"type\":\"scatter\",\"x\":[2,1],\"y\":[3,3],\"mode\":\"lines\",\"line\":{\"color\":\"red\"}},{\"type\":\"scatter\",\"x\":[1,1],\"y\":[3,2],\"mode\":\"lines\",\"line\":{\"color\":\"red\"}},{\"type\":\"scatter\",\"x\":[1,0],\"y\":[2,2],\"mode\":\"lines\",\"line\":{\"color\":\"red\"}},{\"type\":\"scatter\",\"x\":[0,0],\"y\":[2,1],\"mode\":\"lines\",\"line\":{\"color\":\"red\"}},{\"type\":\"scatter\",\"x\":[0,0],\"y\":[1,0],\"mode\":\"lines\",\"line\":{\"color\":\"red\"}}];\n",
       "            var layout = {\"showlegend\":false};\n",
       "            Plotly.newPlot('fe2b955f-2bb7-4fe0-aa0c-4afe4d3a0d36', data, layout);\n",
       "        });\r\n",
       "};\r\n",
       "if ((typeof(requirejs) !==  typeof(Function)) || (typeof(requirejs.config) !== typeof(Function))) { \r\n",
       "    var script = document.createElement(\"script\"); \r\n",
       "    script.setAttribute(\"src\", \"https://cdnjs.cloudflare.com/ajax/libs/require.js/2.3.6/require.min.js\"); \r\n",
       "    script.onload = function(){\r\n",
       "        renderPlotly();\r\n",
       "    };\r\n",
       "    document.getElementsByTagName(\"head\")[0].appendChild(script); \r\n",
       "}\r\n",
       "else {\r\n",
       "    renderPlotly();\r\n",
       "}\r\n",
       "</script>"
      ]
     },
     "metadata": {},
     "output_type": "display_data"
    }
   ],
   "source": [
    "var agent = new Agent(roadMap, agentStartX, agentStartY, agentEndX, agentEndY, true);\n",
    "agent.MoveToGoal();\n",
    "agent.FillGraphWithPath();\n",
    "var chart = GraphInChart(agent.graph);\n",
    "display(chart);"
   ]
  }
 ],
 "metadata": {
  "kernelspec": {
   "display_name": ".NET (C#)",
   "language": "C#",
   "name": ".net-csharp"
  },
  "language_info": {
   "file_extension": ".cs",
   "mimetype": "text/x-csharp",
   "name": "C#",
   "pygments_lexer": "csharp",
   "version": "8.0"
  },
  "vscode": {
   "interpreter": {
    "hash": "84fee7d3a0e38d6d54c9f22946ce799dea11573b4478e11ef642f6ebc6ef5042"
   }
  }
 },
 "nbformat": 4,
 "nbformat_minor": 5
}
